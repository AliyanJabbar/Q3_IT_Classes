{
 "cells": [
  {
   "cell_type": "markdown",
   "id": "abf81510",
   "metadata": {},
   "source": [
    "**TOPICS:**\n",
    "\n",
    "*Exception Handling \n",
    "*Sets \n",
    "*os module \n",
    "*generator function\n",
    "*slice \n",
    "*decorators \n",
    " "
   ]
  },
  {
   "cell_type": "code",
   "execution_count": null,
   "id": "4a8da0c6",
   "metadata": {},
   "outputs": [],
   "source": [
    "name: str = 10 #python is dynamcally typed language and here we are using type hinting not type restriction\n",
    "print(\"name\",name)"
   ]
  },
  {
   "cell_type": "code",
   "execution_count": null,
   "id": "7c566fd5",
   "metadata": {},
   "outputs": [],
   "source": [
    "# control flow -> flow ko control karna \n",
    "\n",
    "name: str = \"Aneeq\"\n",
    "if name == \"aneeq\": #case sensitive \n",
    "    print(\"welcome\")\n",
    "else: \n",
    "    print(\"kon ho ap?\")"
   ]
  },
  {
   "cell_type": "code",
   "execution_count": null,
   "metadata": {},
   "outputs": [],
   "source": [
    "name: str = \"Aneeq\"\n",
    "\n",
    "for text in name: # for loop is used to iterate over a sequence (list, tuple, dictionary, set, or string)\n",
    "    print(text)"
   ]
  },
  {
   "cell_type": "code",
   "execution_count": null,
   "metadata": {},
   "outputs": [],
   "source": [
    "for num in range(10,-1,-1): #range function is used to generate a sequence of numbers, starting from 0 by default, and increments by 1 (by default), and stops before a specified number. it takes three args 1.start, 2.stop, 3.steps(can be negative for backward counting)\n",
    "    print(num)"
   ]
  },
  {
   "cell_type": "code",
   "execution_count": null,
   "id": "cdc3461b",
   "metadata": {},
   "outputs": [],
   "source": [
    "# modules\n",
    "\n",
    "# import category.category as category #importing a module named category\n",
    "# category.get_category()\n",
    "\n",
    "\n",
    "# OR  \n",
    "\n",
    "\n",
    "from category.category import get_category #importing a function named get_category from category module\n",
    "get_category() #calling the function"
   ]
  },
  {
   "cell_type": "code",
   "execution_count": 49,
   "id": "d86e1cbc",
   "metadata": {},
   "outputs": [
    {
     "ename": "ImportError",
     "evalue": "cannot import name 'Category' from 'category.category' (c:\\Users\\Aliyan_Jabbar\\Desktop\\Aliyan Jabbar\\Aliyan Jabbar IT\\3rd Quarter\\ITClasses\\class07\\category\\category.py)",
     "output_type": "error",
     "traceback": [
      "\u001b[31m---------------------------------------------------------------------------\u001b[39m",
      "\u001b[31mImportError\u001b[39m                               Traceback (most recent call last)",
      "\u001b[36mCell\u001b[39m\u001b[36m \u001b[39m\u001b[32mIn[49]\u001b[39m\u001b[32m, line 3\u001b[39m\n\u001b[32m      1\u001b[39m \u001b[38;5;66;03m# modules\u001b[39;00m\n\u001b[32m----> \u001b[39m\u001b[32m3\u001b[39m \u001b[38;5;28;01mfrom\u001b[39;00m\u001b[38;5;250m \u001b[39m\u001b[34;01mcategory\u001b[39;00m\u001b[34;01m.\u001b[39;00m\u001b[34;01mcategory\u001b[39;00m\u001b[38;5;250m \u001b[39m\u001b[38;5;28;01mimport\u001b[39;00m Category \u001b[38;5;66;03m#importing a module named category\u001b[39;00m\n\u001b[32m      5\u001b[39m category_obj = Category() \u001b[38;5;66;03m#creating an object of the class Category\u001b[39;00m\n\u001b[32m      6\u001b[39m category_obj.get_category() \u001b[38;5;66;03m#calling the function get_category from the object category_obj\u001b[39;00m\n",
      "\u001b[31mImportError\u001b[39m: cannot import name 'Category' from 'category.category' (c:\\Users\\Aliyan_Jabbar\\Desktop\\Aliyan Jabbar\\Aliyan Jabbar IT\\3rd Quarter\\ITClasses\\class07\\category\\category.py)"
     ]
    }
   ],
   "source": [
    "# modules\n",
    "\n",
    "from category.category import Category #importing a module named category\n",
    "\n",
    "category_obj = Category() #creating an object of the class Category\n",
    "category_obj.get_category() #calling the function get_category from the object category_obj\n",
    "\n"
   ]
  },
  {
   "cell_type": "code",
   "execution_count": 54,
   "id": "9d9f4ea7",
   "metadata": {},
   "outputs": [
    {
     "name": "stdout",
     "output_type": "stream",
     "text": [
      "start of project\n",
      "error division by zero\n",
      "this will always execute\n",
      "end of project\n"
     ]
    }
   ],
   "source": [
    "# Exception Handling\n",
    "\n",
    "print(\"start of project\")\n",
    "num1 : int = 10\n",
    "num2: int = 0\n",
    "try: \n",
    "    result = num1/ num2 #this will raise an exception because we are dividing by zero\n",
    "    print(result)\n",
    "except ZeroDivisionError as e: #this will catch the exception and print the error message\n",
    "    print(\"error\",e)\n",
    "except Exception as e : \n",
    "    print(\"error occured\")\n",
    "finally: \n",
    "    print(\"this will always execute\")\n",
    "print(\"end of project\")"
   ]
  },
  {
   "cell_type": "code",
   "execution_count": 57,
   "id": "9e86d35e",
   "metadata": {},
   "outputs": [
    {
     "name": "stdout",
     "output_type": "stream",
     "text": [
      "{1, 2, 3, 4, 5, 6, 7, 8, 9, 10}\n"
     ]
    }
   ],
   "source": [
    "# sets\n",
    "\n",
    "numbers = {1,2,3,4,5,5,5,5,6,7,8,9,10} #creating a set of numbers\n",
    "print(numbers)"
   ]
  },
  {
   "cell_type": "code",
   "execution_count": 94,
   "id": "999d1ab6",
   "metadata": {},
   "outputs": [],
   "source": [
    "import os \n",
    "\n",
    "# os.mkdir(\"test\") #creating a new folder named test #can run only one time because folder with same name cannot be created again\n",
    "# os.rename(\"test\",\"test1\") #renaming the folder test to test1\n",
    "# os.remove(\"test1\") #removing the folder test1"
   ]
  },
  {
   "cell_type": "code",
   "execution_count": null,
   "id": "f9d1eb50",
   "metadata": {},
   "outputs": [
    {
     "name": "stdout",
     "output_type": "stream",
     "text": [
      "[0, 1, 2, 3, 4, 5, 6, 7, 8, 9]\n"
     ]
    }
   ],
   "source": [
    "# generator function -> generate values on runtime and remember the previous state of the function.\n",
    "\n",
    "def id_generator():\n",
    "    for i in range(10):\n",
    "        yield i #yield is used to produce a value and pause the function, allowing it to be resumed later.\n",
    "\n",
    "print(list(id_generator())) #converting the generator object to a list and printing it"
   ]
  },
  {
   "cell_type": "code",
   "execution_count": 109,
   "id": "2ae25aa2",
   "metadata": {},
   "outputs": [
    {
     "name": "stdout",
     "output_type": "stream",
     "text": [
      "[1, 2, 3, 4, 5]\n"
     ]
    }
   ],
   "source": [
    "numbers = [1,2,3,4,5,6,7,8,9,10] #creating a list of numbers\n",
    "new_numbers = numbers[0:5] #slicing the list to get the first 5 numbers by index and the last index is exclusive. Same as range [start:end:step]\n",
    "print(new_numbers)"
   ]
  },
  {
   "cell_type": "code",
   "execution_count": 118,
   "id": "2ba5aa2a",
   "metadata": {},
   "outputs": [
    {
     "name": "stdout",
     "output_type": "stream",
     "text": [
      "some logic\n",
      "hello\n",
      "some logic\n"
     ]
    }
   ],
   "source": [
    "# decorators -> functions that modify the functionality of another function. They are used to add functionality to an existing function without modifying its structure. Decorators are very powerful and useful tool in Python since it allows programmers to modify the behavior of function or class.\n",
    "\n",
    "\n",
    "def wrapper_function(original_function): #this is a decorator function that takes another function as an argument\n",
    "    print(\"some logic\")\n",
    "    original_function() #calling the original function\n",
    "    print(\"some logic\")\n",
    "@wrapper_function #this is a decorator that modifies the functionality of the function func\n",
    "def func():\n",
    "    print(\"hello\")"
   ]
  }
 ],
 "metadata": {
  "kernelspec": {
   "display_name": "Python 3",
   "language": "python",
   "name": "python3"
  },
  "language_info": {
   "codemirror_mode": {
    "name": "ipython",
    "version": 3
   },
   "file_extension": ".py",
   "mimetype": "text/x-python",
   "name": "python",
   "nbconvert_exporter": "python",
   "pygments_lexer": "ipython3",
   "version": "3.12.2"
  }
 },
 "nbformat": 4,
 "nbformat_minor": 5
}
