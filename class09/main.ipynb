{
 "cells": [
  {
   "cell_type": "markdown",
   "id": "b07e8465",
   "metadata": {},
   "source": [
    "Starting from the previous class -> Encapsulation, Inheritance and last topic of previous class = Polymorphism"
   ]
  },
  {
   "cell_type": "markdown",
   "id": "6d1d82e4",
   "metadata": {},
   "source": [
    "# TOPICS:\n",
    "# Abstraction\n",
    "# Multiple inheritance\n",
    "# MRO -> Method Resolution Object\n",
    "# Operator Overloading\n",
    "# Class / Instance attributes\n",
    "# Class methods , Instance methods and static methods"
   ]
  },
  {
   "cell_type": "markdown",
   "id": "178a6288",
   "metadata": {},
   "source": [
    "# 1. Abstraction"
   ]
  },
  {
   "cell_type": "code",
   "execution_count": 137,
   "id": "fa8a2a54",
   "metadata": {},
   "outputs": [],
   "source": [
    "# Abstraction -> Complexity ko chupana or apni classes ko manage krna. Jese class humare code (data) ko manage krti hain wese hi abstraction jo he woh classes ko manage krne ke liye use hoti hai\n",
    "\n",
    "# Abstraction ka matlab he ke hum kisi cheez ki sirf zaroori information ko dikhate hain or baqi ki cheezein chhupate hain. Jese ke ek car ka steering wheel, hum sirf steering wheel ko dekhte hain or uske andar ki wiring or engine ko nahi dekhte.\n",
    "\n",
    "from abc import ABC, abstractmethod\n",
    "\n",
    "# making a template for other classes\n",
    "class Person(ABC): #inheriting the ABC class (abstract class)\n",
    "    def __init__(self,name,age):\n",
    "        self.name = name\n",
    "        self.age = age\n",
    "        \n",
    "    @abstractmethod\n",
    "    def work(self):\n",
    "        pass\n",
    "    \n",
    "# p1 = Person(\"Ali\",20) #TypeError: Can't instantiate abstract class Person with abstract method work"
   ]
  },
  {
   "cell_type": "code",
   "execution_count": 138,
   "id": "9b5f94a3",
   "metadata": {},
   "outputs": [
    {
     "name": "stdout",
     "output_type": "stream",
     "text": [
      "Student is greeting\n",
      "Student is working\n"
     ]
    }
   ],
   "source": [
    "# now making a child class with an abstract class \n",
    "from abc import ABC, abstractmethod\n",
    "\n",
    "# making a template for other classes\n",
    "class Person(ABC): #inheriting the ABC class (abstract class)\n",
    "    def __init__(self,name,age):\n",
    "        self.name = name\n",
    "        self.age = age\n",
    "        \n",
    "    @abstractmethod\n",
    "    def work(): # abstract method\n",
    "        pass\n",
    "    \n",
    "    # instance method\n",
    "    def greet(self):\n",
    "        print(\"Hi\")\n",
    "\n",
    "class Student(Person):\n",
    "    def __init__(self,name,age,student_id):\n",
    "        super().__init__(name,age)\n",
    "        self.student_id = student_id\n",
    "        \n",
    "    def greet(self):\n",
    "        print(\"Student is greeting\")   \n",
    "        \n",
    "    def work(self):\n",
    "        print(\"Student is working\")\n",
    "        \n",
    "student1 = Student(\"Ali\",19,\"S123\")\n",
    "student1.greet()\n",
    "student1.work()"
   ]
  },
  {
   "cell_type": "code",
   "execution_count": 139,
   "id": "985160d5",
   "metadata": {},
   "outputs": [
    {
     "name": "stdout",
     "output_type": "stream",
     "text": [
      "Person is working\n"
     ]
    }
   ],
   "source": [
    "from abc import ABC\n",
    "\n",
    "class Person(ABC): #inheriting the ABC class (abstract class)\n",
    "    def __init__(self,name,age):\n",
    "        self.name = name\n",
    "        self.age = age\n",
    "        \n",
    "    def work(self): # this is not an abstract method here, it's an instance method\n",
    "        print(\"Person is working\")\n",
    "\n",
    "class Student(Person):\n",
    "    def __init__(self,name,age,student_id):\n",
    "        super().__init__(name,age)\n",
    "        self.student_id = student_id\n",
    "        \n",
    "        \n",
    "student1 = Student(\"Ali\",19,\"S123\")\n",
    "student1.work()"
   ]
  },
  {
   "cell_type": "markdown",
   "id": "0b151280",
   "metadata": {},
   "source": [
    "# 2. Multiple Inheritance"
   ]
  },
  {
   "cell_type": "code",
   "execution_count": 140,
   "id": "645e1c63",
   "metadata": {},
   "outputs": [
    {
     "name": "stdout",
     "output_type": "stream",
     "text": [
      "Student Leader is greeting\n",
      "Student Leader is working\n",
      "Saturday\n"
     ]
    }
   ],
   "source": [
    "# Multiple Inheritance\n",
    "from abc import ABC, abstractmethod\n",
    "\n",
    "class Person(ABC): #inheriting the ABC class (abstract class)\n",
    "    def __init__(self,name,age):\n",
    "        self.name = name\n",
    "        self.age = age\n",
    "        \n",
    "    def work(self):\n",
    "        print(\"Person is working\")\n",
    "        \n",
    "    def greet(self):\n",
    "        print(\"Student is greeting\") \n",
    "\n",
    "\n",
    "class Student(Person):\n",
    "    def __init__(self,name,age,student_id):\n",
    "        super().__init__(name,age) #not passing self as we are using super \n",
    "        self.student_id = student_id\n",
    "        \n",
    "    def greet(self):\n",
    "        print(\"Student is greeting\")   \n",
    "        \n",
    "    def work(self):\n",
    "        print(\"Student is working\")\n",
    "        \n",
    "\n",
    "\n",
    "class Teacher:\n",
    "    def __init__(self,name,age,teacher_id):\n",
    "        self.name = name\n",
    "        self.age = age\n",
    "        self.teacher_id = teacher_id\n",
    "        \n",
    "    def greet(self):\n",
    "        print(\"Teacher is greeting\")   \n",
    "        \n",
    "    def work(self):\n",
    "        print(\"Teacher is working\")\n",
    "        \n",
    "class StudentLeader(Student, Teacher): #Doing multiple Inheritance\n",
    "    def __init__(self,name,age,student_id,teacher_id,slot):\n",
    "        Student.__init__(self,name,age,student_id) #not using super so, we will pass self\n",
    "        Teacher.__init__(self,name,age,teacher_id) #not using super so, we will pass self\n",
    "        self.slot = slot\n",
    "        \n",
    "    def greet(self):\n",
    "        print(\"Student Leader is greeting\")\n",
    "        \n",
    "    def work(self):\n",
    "        print(\"Student Leader is working\")\n",
    "        \n",
    "\n",
    "LeadStudent = StudentLeader(\"Ali\",19,\"S123\",\"T123\",\"Saturday\")\n",
    "LeadStudent.greet()\n",
    "LeadStudent.work()\n",
    "print(LeadStudent.slot)"
   ]
  },
  {
   "cell_type": "markdown",
   "id": "c17bb1f8",
   "metadata": {},
   "source": [
    "# 3.Method Resolution Object -> MRO"
   ]
  },
  {
   "cell_type": "code",
   "execution_count": null,
   "id": "6148908d",
   "metadata": {},
   "outputs": [
    {
     "name": "stdout",
     "output_type": "stream",
     "text": [
      "Student is greeting\n",
      "Student is working\n"
     ]
    },
    {
     "data": {
      "text/plain": [
       "[__main__.StudentLeader,\n",
       " __main__.Student,\n",
       " __main__.Person,\n",
       " abc.ABC,\n",
       " __main__.Teacher,\n",
       " object]"
      ]
     },
     "execution_count": 11,
     "metadata": {},
     "output_type": "execute_result"
    }
   ],
   "source": [
    "# Method Resolution object -> MRO; MRO determines the order in which Python looks for a method or attribute in case of multiple inheritance.\n",
    "from abc import ABC\n",
    "\n",
    "class Person(ABC): #inheriting the ABC class (abstract class)\n",
    "    def __init__(self,name,age):\n",
    "        self.name = name\n",
    "        self.age = age\n",
    "        \n",
    "    def work(self):\n",
    "        print(\"Person is working\")\n",
    "        \n",
    "    def greet(self):\n",
    "        print(\"Student is greeting\") \n",
    "\n",
    "\n",
    "class Student(Person):\n",
    "    def __init__(self,name,age,student_id):\n",
    "        super().__init__(name,age) #not passing self as we are using super \n",
    "        self.student_id = student_id\n",
    "        \n",
    "    def greet(self):\n",
    "        print(\"Student is greeting\")   \n",
    "        \n",
    "    def work(self):\n",
    "        print(\"Student is working\")\n",
    "        \n",
    "\n",
    "\n",
    "class Teacher:\n",
    "    def __init__(self,name,age,teacher_id):\n",
    "        self.name = name\n",
    "        self.age = age\n",
    "        self.teacher_id = teacher_id\n",
    "        \n",
    "    def greet(self):\n",
    "        print(\"Teacher is greeting\")   \n",
    "        \n",
    "    def work(self):\n",
    "        print(\"Teacher is working\")\n",
    "        \n",
    "class StudentLeader(Student, Teacher): #Doing multiple Inheritance, jo pehle ayega uske method dominate karenge ager hum is class ke andar methods ko overwrite nhi karenge. Matlab -> Pehle ao Pehle pao\n",
    "    def __init__(self,name,age,student_id,teacher_id,slot):\n",
    "        Student.__init__(self,name,age,student_id) #not using super so, we will pass self\n",
    "        Teacher.__init__(self,name,age,teacher_id) #not using super so, we will pass self\n",
    "        self.slot = slot\n",
    "        \n",
    "    # def greet(self):\n",
    "    #     print(\"Student Leader is greeting\")\n",
    "        \n",
    "    # def work(self):\n",
    "    #     print(\"Student Leader is working\")\n",
    "\n",
    "\n",
    "LeadStudent = StudentLeader(\"Ali\",19,\"S123\",\"T123\",\"Saturday\")\n",
    "# here the mro of SutdentLeader (class) is StudentLeader → Student → Person → Teacher → Object\n",
    "LeadStudent.greet() #the StudentLeader class will find the method in the first inherit class (Student) first, if it find it then it will directly print it not check the other inheritance\n",
    "LeadStudent.work() #similar concept here\n",
    "StudentLeader.mro() # here the mro of SutdentLeader (class) is StudentLeader → Student → Person → Teacher"
   ]
  },
  {
   "cell_type": "markdown",
   "id": "b6ff68c5",
   "metadata": {},
   "source": [
    "# Types of Polymorphism -> 1.Runtime 2.Compiletime\n",
    "# 1. Method Overwriting -> Runtime\n",
    "# 2. Method OverLoading -> Compiletime\n",
    "\n",
    "* Python Supports Overwriting only\n",
    "* In many programming languages (like Java or C++), method overloading means defining multiple methods with the same name but different parameters. However, in Python, true method overloading is not directly supported."
   ]
  },
  {
   "cell_type": "code",
   "execution_count": 142,
   "id": "51217ef7",
   "metadata": {},
   "outputs": [
    {
     "name": "stdout",
     "output_type": "stream",
     "text": [
      "6\n"
     ]
    }
   ],
   "source": [
    "def sum (a,b):\n",
    "    return a+b\n",
    "def sum (a,b,c): #method overwriting ho gai hai ab hume 3 parameters hi dene honge. jabke overloading me hum in dono methods ko yani sum ko 2 parameters se bhi or 3 parameters se bhi access krsakte hain, but in python it is not availiable\n",
    "    return a+b+c\n",
    "\n",
    "# result = sum(1,2) #will give error\n",
    "result = sum(1,2,3) #will not give error\n",
    "print(result)"
   ]
  },
  {
   "cell_type": "markdown",
   "id": "4adcea5b",
   "metadata": {},
   "source": [
    "# 4. Operator Overlaoding"
   ]
  },
  {
   "cell_type": "code",
   "execution_count": 143,
   "id": "48fb2659",
   "metadata": {},
   "outputs": [
    {
     "name": "stdout",
     "output_type": "stream",
     "text": [
      "The Person's name is Ali and age is 30\n",
      "The Person's name is Abdullah and age is 28\n",
      "operator applied is +\n",
      "self:  <__main__.Person object at 0x000001D5DD4CA710>\n",
      "other:  <__main__.Person object at 0x000001D5DCC07BD0>\n",
      "combined Name = Ali Abdullah\n",
      "combined Age = 58\n"
     ]
    }
   ],
   "source": [
    "class Person: \n",
    "    def __init__(self,name,age):\n",
    "        self.name =name\n",
    "        self.age = age\n",
    "        \n",
    "    def greet(self):\n",
    "        print(f\"The Person's name is {self.name} and age is {self.age}\")\n",
    "        \n",
    "    # magic function or dunder function or method of add -> __add__. This magic function listen to the \"+\" operator\n",
    "    def __add__(self,other):\n",
    "        print(\"operator applied is +\")\n",
    "        print(\"self: \",self) #self:  <__main__.Person object at 0x000001D5DD711510>\n",
    "        print(\"other: \",other) #other:  <__main__.Person object at 0x000001D5DD205F50>\n",
    "        print(f\"combined Name = {self.name} {other.name}\")\n",
    "        print(f\"combined Age = {self.age + other.age}\")\n",
    "        \n",
    "    # magic function or dunder function or method of sub -> __sub__. This magic function listen to the \"-\" operator\n",
    "    def __sub__(self,other):\n",
    "        print(\"operator applied is -\")\n",
    "        print(\"self: \",self) #self:  <__main__.Person object at 0x000001D5DD711510>\n",
    "        print(\"other: \",other) #other:  <__main__.Person object at 0x000001D5DD205F50>\n",
    "        \n",
    "person1 = Person(\"Ali\",30)\n",
    "person2 = Person(\"Abdullah\",28)\n",
    "person1.greet()\n",
    "person2.greet()\n",
    "person1 + person2 #not working but also not giving any error due to the magic function / method of add -> __add__\n",
    "# person1 - person2 #not working but also not giving any error due to the magic function / method of sub -> __sub__. we will only study add to add first and last name\n",
    "# person1 * person2 #TypeError: unsupported operand type(s) for *: 'Person' and 'Person'"
   ]
  },
  {
   "cell_type": "code",
   "execution_count": 144,
   "id": "ce41317a",
   "metadata": {},
   "outputs": [
    {
     "name": "stdout",
     "output_type": "stream",
     "text": [
      "The Person's name is Ali and age is 30\n",
      "The Person's name is Abdullah and age is 28\n",
      "Person 3 name is Ali Abdullah and age is 58\n"
     ]
    }
   ],
   "source": [
    "class Person: \n",
    "    def __init__(self,name,age):\n",
    "        self.name =name\n",
    "        self.age = age\n",
    "        \n",
    "    def greet(self):\n",
    "        print(f\"The Person's name is {self.name} and age is {self.age}\")\n",
    "        \n",
    "    # magic function or dunder function or method of add -> __add__. This magic function listen to the \"+\" operator\n",
    "    def __add__(self,other):\n",
    "        combinedName = f\"{self.name} {other.name}\"\n",
    "        combinedAge = self.age + other.age\n",
    "        # this is operator overloading\n",
    "        return Person(combinedName,combinedAge) #returning a new object of Person class with combined name and age. will represent as person3\n",
    "        \n",
    "    # magic function or dunder function or method of sub -> __sub__. This magic function listen to the \"-\" operator\n",
    "    def __sub__(self,other):\n",
    "        print(\"operator applied is -\")\n",
    "        print(\"self: \",self) #self:  <__main__.Person object at 0x000001D5DD711510>\n",
    "        print(\"other: \",other) #other:  <__main__.Person object at 0x000001D5DD205F50>\n",
    "        \n",
    "person1 = Person(\"Ali\",30)\n",
    "person2 = Person(\"Abdullah\",28)\n",
    "person1.greet()\n",
    "person2.greet()\n",
    "person3 = person1 + person2 \n",
    "print(f\"Person 3 name is {person3.name} and age is {person3.age}\")"
   ]
  },
  {
   "cell_type": "markdown",
   "id": "4a2579e3",
   "metadata": {},
   "source": [
    "# 5. Class / Instance Level Attributes"
   ]
  },
  {
   "cell_type": "code",
   "execution_count": 145,
   "id": "794db399",
   "metadata": {},
   "outputs": [
    {
     "name": "stdout",
     "output_type": "stream",
     "text": [
      "Human\n",
      "Ali\n",
      "20\n",
      "1\n",
      "Human\n",
      "2\n"
     ]
    }
   ],
   "source": [
    "class Person: \n",
    "    specie = \"Human\" #Class attribute. same for all instances\n",
    "    population = 0 #class attribute\n",
    "    def __init__(self,name,age): #this is instance method becuase it is called when the object(instance) is created\n",
    "        self.name = name #instance attribute. all instance have unique value\n",
    "        self.age = age #instance attribute\n",
    "        Person.population += 1\n",
    "        \n",
    "person1 = Person(\"Ali\",20)\n",
    "print(person1.specie)\n",
    "print(person1.name)\n",
    "print(person1.age)\n",
    "# directly calling through class\n",
    "# print(Person.age) #AttributeError: type object 'Person' has no attribute 'age'\n",
    "print(Person.population)\n",
    "print(Person.specie)\n",
    "person2 = Person(\"Abdullah\",21)\n",
    "print(Person.population)"
   ]
  },
  {
   "cell_type": "code",
   "execution_count": 154,
   "id": "4aca7e0a",
   "metadata": {},
   "outputs": [
    {
     "name": "stdout",
     "output_type": "stream",
     "text": [
      "Urdu\n",
      "English\n"
     ]
    }
   ],
   "source": [
    "class Person: \n",
    "    specie = \"Human\" #Class attribute. same for all instances\n",
    "    population = 0 #class attribute\n",
    "    default_language = \"Urdu\" #class attribute\n",
    "    def __init__(self,name,age,language=None): #this is instance method becuase it is called when the object(instance) is created\n",
    "        self.name = name #instance attribute. all instance have unique value\n",
    "        self.age = age #instance attribute\n",
    "        self.language = language if language else Person.default_language \n",
    "        Person.population += 1\n",
    "        \n",
    "person1 = Person(\"Ali\",20)\n",
    "print(person1.language)\n",
    "person2 = Person(\"Ahmed\",21,\"English\")\n",
    "print(person2.language)"
   ]
  },
  {
   "cell_type": "markdown",
   "id": "2bdef8e5",
   "metadata": {},
   "source": [
    "# Class / Instance / Static Methods"
   ]
  },
  {
   "cell_type": "code",
   "execution_count": null,
   "id": "bf40ea3b",
   "metadata": {},
   "outputs": [
    {
     "name": "stdout",
     "output_type": "stream",
     "text": [
      "cls:  <class '__main__.Person'>\n",
      "population:  3\n",
      "cls:  <class '__main__.Person'>\n",
      "population:  3\n"
     ]
    }
   ],
   "source": [
    "class Person: \n",
    "    population = 0 #class attribute \n",
    "    def __init__(self,name,age):\n",
    "        self.name = name \n",
    "        self.age = age \n",
    "        Person.population += 1\n",
    "        \n",
    "    # instance method. first parameter is instance itself -self\n",
    "    def get_population(self):\n",
    "        print(\"self: \",self)\n",
    "        print(\"population: \", Person.population)\n",
    "        \n",
    "    # class method. first parameter is class itself -> cls\n",
    "    @classmethod\n",
    "    def get_population(cls):\n",
    "        print(\"cls: \",cls)\n",
    "        print(\"population: \", cls.population)\n",
    "        \n",
    "person1 = Person(\"Ali\",20)\n",
    "person2 = Person(\"Ahmed\",21)\n",
    "person2 = Person(\"Ahmed\",21)\n",
    "person1.get_population() #using instance method. if the second get_population is commented because if uncommented, it will overwrite the get_population method. if it is\n",
    "Person.get_population() #using class method"
   ]
  },
  {
   "cell_type": "code",
   "execution_count": 16,
   "id": "12debc1e",
   "metadata": {},
   "outputs": [
    {
     "name": "stdout",
     "output_type": "stream",
     "text": [
      "cls:  <class '__main__.Person'>\n",
      "the person2 name is Anonymous and age is 0\n"
     ]
    }
   ],
   "source": [
    "class Person: \n",
    "    def __init__(self,name,age):\n",
    "        self.name = name\n",
    "        self.age = age \n",
    "        \n",
    "\n",
    "    # class method. first parameter is class itself -> cls\n",
    "    @classmethod\n",
    "    def create_anonymous(cls):\n",
    "        print(\"cls: \",cls)\n",
    "        return cls(\"Anonymous\",0)\n",
    "        \n",
    "person1 = Person(\"Ali\",20)\n",
    "person2 = Person.create_anonymous() #using class method\n",
    "print(f\"the person2 name is {person2.name} and age is {person2.age}\")"
   ]
  },
  {
   "cell_type": "code",
   "execution_count": 30,
   "id": "f740b7ab",
   "metadata": {},
   "outputs": [
    {
     "name": "stdout",
     "output_type": "stream",
     "text": [
      "True\n",
      "False\n"
     ]
    }
   ],
   "source": [
    "class Person: \n",
    "    def __init__(self,name,age):\n",
    "        self.name = name\n",
    "        self.age = age \n",
    "    @staticmethod #can work without it but it is preferred to use this decorator\n",
    "    def is_adult(age): #not linked with class or instance that's why the first parameter is not cls or self here. static method is a helper method\n",
    "        return age >= 18\n",
    "        \n",
    "person1 = Person(\"Ali\",20)\n",
    "person2 = Person(\"Ali\",17)\n",
    "print(Person.is_adult(person1.age))\n",
    "print(Person.is_adult(person2.age))"
   ]
  },
  {
   "cell_type": "markdown",
   "id": "585879a8",
   "metadata": {},
   "source": [
    "# HOME ASSIGNMENT: \n",
    "* Student and teacher dono ko person se inherit krke phir indono ko lead student ki class me inherit krna hai\n",
    "* Duck Typing"
   ]
  },
  {
   "cell_type": "code",
   "execution_count": null,
   "id": "394df790",
   "metadata": {},
   "outputs": [
    {
     "name": "stdout",
     "output_type": "stream",
     "text": [
      "Student is greeting\n",
      "Teacher is working\n"
     ]
    },
    {
     "data": {
      "text/plain": [
       "[__main__.StudentLeader,\n",
       " __main__.Student,\n",
       " __main__.Teacher,\n",
       " __main__.Person,\n",
       " abc.ABC,\n",
       " object]"
      ]
     },
     "execution_count": 14,
     "metadata": {},
     "output_type": "execute_result"
    }
   ],
   "source": [
    "# Student and teacher dono ko person se inherit krke phir indono ko lead student ki class me inherit krna hai\n",
    "\n",
    "from abc import ABC\n",
    "\n",
    "class Person(ABC): #inheriting the ABC class (abstract class)\n",
    "    def __init__(self,name,age):\n",
    "        self.name = name\n",
    "        self.age = age\n",
    "        \n",
    "    def work(self):\n",
    "        print(\"Person is working\")\n",
    "        \n",
    "    def greet(self):\n",
    "        print(\"Student is greeting\") \n",
    "\n",
    "\n",
    "class Student(Person):\n",
    "    def __init__(self,name,age,student_id):\n",
    "        Person.__init__(self,name,age) # we will directly use the Person class name(so we have to use self) and not use super because we are using multiple inheritance below in student leader class. by using Person.__init__() -> “Hey, skip the MRO chain for now, just go to Person and run its __init__.”. This avoids the whole super() chain and MRO logic, meaning it won't accidentally land in Teacher.__init__(), which causes the error.\n",
    "        self.student_id = student_id\n",
    "        \n",
    "    def greet(self):\n",
    "        print(\"Student is greeting\")   \n",
    "        \n",
    "    def work(self):\n",
    "        print(\"Student is working\")\n",
    "        \n",
    "\n",
    "\n",
    "class Teacher(Person):\n",
    "    def __init__(self,name,age,teacher_id):\n",
    "        Person.__init__(self,name,age)\n",
    "        self.teacher_id = teacher_id\n",
    "        \n",
    "    def greet(self):\n",
    "        print(\"Teacher is greeting\")   \n",
    "        \n",
    "    def work(self):\n",
    "        print(\"Teacher is working\")\n",
    "        \n",
    "class StudentLeader(Student, Teacher): #Doing multiple Inheritance, jo pehle ayega uske method dominate karenge ager hum is class ke andar methods ko overwrite nhi karenge. Matlab -> Pehle ao Pehle pao\n",
    "    def __init__(self,name,age,student_id,teacher_id,slot):\n",
    "        Student.__init__(self,name,age,student_id) #not using super so, we will pass self\n",
    "        Teacher.__init__(self,name,age,teacher_id) #not using super so, we will pass self\n",
    "        self.slot = slot\n",
    "        \n",
    "    # def greet(self):\n",
    "    #     print(\"Student Leader is greeting\")\n",
    "        \n",
    "    # def work(self):\n",
    "    #     print(\"Student Leader is working\")\n",
    "\n",
    "\n",
    "LeadStudent = StudentLeader(\"Ali\",19,\"S123\",\"T123\",\"Saturday\")\n",
    "# here the mro of SutdentLeader (class) is StudentLeader → Student → Teacher → Person → Object that means: Inside Student, when you call super(), it doesn't call Person.__init__() directly.It actually calls the next class in the MRO after Student, which is Teacher.\n",
    "LeadStudent.greet() #the StudentLeader class will find the method in the first inherit class (Student) first, if it find it then it will directly print it not check the other inheritance\n",
    "LeadStudent.work() #similar concept here\n",
    "StudentLeader.mro() # here the mro of SutdentLeader (class) is StudentLeader → Student → Teacher → Person → Object"
   ]
  },
  {
   "cell_type": "markdown",
   "id": "c6d811d7",
   "metadata": {},
   "source": [
    "# Duck Typing"
   ]
  },
  {
   "cell_type": "code",
   "execution_count": null,
   "id": "b8b61b26",
   "metadata": {},
   "outputs": [
    {
     "name": "stdout",
     "output_type": "stream",
     "text": [
      "Quack!\n",
      "I'm quacking like a duck!\n"
     ]
    }
   ],
   "source": [
    "# Duck Typing\n",
    "\n",
    "# \"If it looks like a duck and quacks like a duck, then it's duck.\" means -> \"Don’t check for a type, just try to use the object, and if it works, it's good enough.\"\n",
    "\n",
    "class Duck:\n",
    "    def quack(self):\n",
    "        print(\"Quack!\")\n",
    "\n",
    "class Person:\n",
    "    def quack(self):\n",
    "        print(\"I'm quacking like a duck!\")\n",
    "\n",
    "def make_it_quack(className:Duck):\n",
    "    className.quack()\n",
    "\n",
    "duck = Duck()\n",
    "person = Person()\n",
    "\n",
    "make_it_quack(duck)    # Output: Quack!\n",
    "make_it_quack(person)  # Output: I'm quacking like a duck!. Inface it is not a duck but it is quacking like a duck. So, it is a duck, in duck typing sense but really, it is Person\n"
   ]
  },
  {
   "cell_type": "markdown",
   "id": "2722ff60",
   "metadata": {},
   "source": [
    "# Duck Typing VS Type Checking"
   ]
  },
  {
   "cell_type": "code",
   "execution_count": null,
   "id": "c9184ef5",
   "metadata": {},
   "outputs": [],
   "source": [
    "# Type checking (not duck typing)\n",
    "def add(a: int, b: int):\n",
    "    if isinstance(a, int) and isinstance(b, int):\n",
    "        return a + b\n",
    "\n",
    "\n",
    "# Duck typing approach\n",
    "def add(a, b):\n",
    "    return a + b  # works for int, float, str, etc.\n",
    "# In duck typing, we don't check the type of a and b. We just try to use them. If they support the + operator, it works. If not, it raises an error."
   ]
  }
 ],
 "metadata": {
  "kernelspec": {
   "display_name": "Python 3",
   "language": "python",
   "name": "python3"
  },
  "language_info": {
   "codemirror_mode": {
    "name": "ipython",
    "version": 3
   },
   "file_extension": ".py",
   "mimetype": "text/x-python",
   "name": "python",
   "nbconvert_exporter": "python",
   "pygments_lexer": "ipython3",
   "version": "3.11.0"
  }
 },
 "nbformat": 4,
 "nbformat_minor": 5
}
