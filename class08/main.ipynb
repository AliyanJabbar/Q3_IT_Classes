{
 "cells": [
  {
   "cell_type": "markdown",
   "id": "7a4a48e3",
   "metadata": {},
   "source": [
    "# Personal Revision (using gpt)"
   ]
  },
  {
   "cell_type": "markdown",
   "id": "03e8b799",
   "metadata": {},
   "source": [
    "abstraction => Rule what must be done"
   ]
  },
  {
   "cell_type": "code",
   "execution_count": 9,
   "id": "34ce1aac",
   "metadata": {},
   "outputs": [
    {
     "name": "stdout",
     "output_type": "stream",
     "text": [
      "Meow\n",
      "Tom\n"
     ]
    }
   ],
   "source": [
    "from abc import ABC, abstractmethod\n",
    "class Animal(ABC): \n",
    "    \"\"\"this is an abstract class\"\"\" #documentation which will show on hover\n",
    "    @abstractmethod\n",
    "    def sound(self):\n",
    "        pass\n",
    "\n",
    "class Cat (Animal): \n",
    "    def __init__(self,name):\n",
    "        self.name = name\n",
    "    def sound(self):\n",
    "        print(\"Meow\")\n",
    "\n",
    "cat1 = Cat(\"Tom\")\n",
    "cat1.sound()\n",
    "print(cat1.name)"
   ]
  },
  {
   "cell_type": "markdown",
   "id": "1c957ac7",
   "metadata": {},
   "source": [
    "Polymorphism => \"Poly\" means many and \"morph\" means face.So, polymorphism means different faces or overwriting"
   ]
  },
  {
   "cell_type": "code",
   "execution_count": 18,
   "id": "1f1c2ac6",
   "metadata": {},
   "outputs": [
    {
     "name": "stdout",
     "output_type": "stream",
     "text": [
      "Cat makes some sound\n",
      "Dog makes some sound\n"
     ]
    }
   ],
   "source": [
    "class Animal: \n",
    "    def sound(self):\n",
    "        print(\"Animal makes some sound\")\n",
    "        \n",
    "class Cat(Animal): #inheriting Animal class\n",
    "    def sound(self):\n",
    "        print(\"Cat makes some sound\")\n",
    "    \n",
    "class Dog(Animal): #inheriting Animal class\n",
    "    def sound(self):\n",
    "        print(\"Dog makes some sound\")\n",
    "\n",
    "c1 = Cat()\n",
    "d1 = Dog()\n",
    "\n",
    "c1.sound()\n",
    "d1.sound()"
   ]
  },
  {
   "cell_type": "markdown",
   "id": "8e1bef74",
   "metadata": {},
   "source": [
    "# Class Start"
   ]
  },
  {
   "cell_type": "markdown",
   "id": "991f0530",
   "metadata": {},
   "source": [
    "OOPs => Object Oriented Programming\n",
    "\n",
    "Pillars: \n",
    "1. Encapsulation\n",
    "2. Inheritance\n",
    "3. Polymorphism\n",
    "4. Abstraction"
   ]
  },
  {
   "cell_type": "code",
   "execution_count": 22,
   "id": "83abbebe",
   "metadata": {},
   "outputs": [
    {
     "name": "stdout",
     "output_type": "stream",
     "text": [
      "self: <__main__.Person object at 0x00000157D021A2D0>\n",
      "self: <__main__.Person object at 0x00000157D01F3850>\n"
     ]
    }
   ],
   "source": [
    "class Person: \n",
    "    def __init__(self):\n",
    "        print(\"self:\", self)\n",
    "        \n",
    "person1 = Person() #self: <__main__.Person object at 0x00000157D021A2D0>\n",
    "person2 = Person() #self: <__main__.Person object at 0x00000157D01F3850>"
   ]
  },
  {
   "cell_type": "code",
   "execution_count": 26,
   "id": "bdca025f",
   "metadata": {},
   "outputs": [
    {
     "name": "stdout",
     "output_type": "stream",
     "text": [
      "self: <__main__.Person object at 0x00000157D0214990>\n",
      "self: <__main__.Person object at 0x00000157D018D510>\n"
     ]
    }
   ],
   "source": [
    "class Person: \n",
    "    def __init__(self): #dunder / magic / constructor ; this will call it self when we make instance from this class\n",
    "        print(\"self:\", self)\n",
    "\n",
    "    def speak (self):\n",
    "        print(\"speaking\")\n",
    "        \n",
    "person1 = Person() #self: <__main__.Person object at 0x00000157D021A2D0>\n",
    "person2 = Person() #self: <__main__.Person object at 0x00000157D01F3850>"
   ]
  },
  {
   "cell_type": "code",
   "execution_count": 34,
   "id": "cfc4700c",
   "metadata": {},
   "outputs": [
    {
     "ename": "AttributeError",
     "evalue": "'Person' object has no attribute 'userName'",
     "output_type": "error",
     "traceback": [
      "\u001b[31m---------------------------------------------------------------------------\u001b[39m",
      "\u001b[31mAttributeError\u001b[39m                            Traceback (most recent call last)",
      "\u001b[36mCell\u001b[39m\u001b[36m \u001b[39m\u001b[32mIn[34]\u001b[39m\u001b[32m, line 6\u001b[39m\n\u001b[32m      3\u001b[39m         userName = name\n\u001b[32m      5\u001b[39m person1 = Person(\u001b[33m\"\u001b[39m\u001b[33mAli\u001b[39m\u001b[33m\"\u001b[39m) \n\u001b[32m----> \u001b[39m\u001b[32m6\u001b[39m \u001b[38;5;28mprint\u001b[39m(\u001b[43mperson1\u001b[49m\u001b[43m.\u001b[49m\u001b[43muserName\u001b[49m) \u001b[38;5;66;03m#will give error: AttributeError: 'Person' object has no attribute 'userName'\u001b[39;00m\n",
      "\u001b[31mAttributeError\u001b[39m: 'Person' object has no attribute 'userName'"
     ]
    }
   ],
   "source": [
    "class Person: \n",
    "    def __init__(self,name): #dunder / magic / constructor ; this will call it self when we make instance from this class\n",
    "        userName = name\n",
    "\n",
    "person1 = Person(\"Ali\") \n",
    "print(person1.userName) #will give error: AttributeError: 'Person' object has no attribute 'userName'"
   ]
  },
  {
   "cell_type": "code",
   "execution_count": 45,
   "id": "361b7ea6",
   "metadata": {},
   "outputs": [
    {
     "name": "stdout",
     "output_type": "stream",
     "text": [
      "self:  <__main__.Person object at 0x00000157D0229110>\n",
      "person1:  <__main__.Person object at 0x00000157D0229110>\n",
      "Ali\n",
      "18\n"
     ]
    }
   ],
   "source": [
    "class Person: \n",
    "    def __init__(self,name,age): #dunder / magic / constructor ; this will call it self when we make instance from this class\n",
    "        print(\"self: \",self) #self:  <__main__.Person object at 0x00000157CFC23790>\n",
    "        self.name = name #connection to the object\n",
    "        self.age = age\n",
    "\n",
    "person1 = Person(\"Ali\",18) #person1:  <__main__.Person object at 0x00000157CFC23790>\n",
    "print(\"person1: \",person1)\n",
    "print(person1.name)\n",
    "print(person1.age)"
   ]
  },
  {
   "cell_type": "markdown",
   "id": "2226c91d",
   "metadata": {},
   "source": [
    "# Encapsulation -> restriction with access modifiers like public / private / protected"
   ]
  },
  {
   "cell_type": "code",
   "execution_count": 69,
   "id": "24b4654c",
   "metadata": {},
   "outputs": [
    {
     "name": "stdout",
     "output_type": "stream",
     "text": [
      "before:  Ali\n",
      "after:  Abdullah\n",
      "200000\n",
      "500000\n"
     ]
    }
   ],
   "source": [
    "class Person: \n",
    "    def __init__(self,name:str,age:int):\n",
    "        self.name = name\n",
    "        self.age = age\n",
    "        self.__income = 200000 #private attribute\n",
    "        \n",
    "    def get_income(self): #getter function or method. starts with get_ => convention\n",
    "        return self.__income\n",
    "    \n",
    "    def set_income(self,income:int): \n",
    "        self.__income = income\n",
    "        \n",
    "person1 = Person(\"Ali\",18)\n",
    "print(\"before: \", person1.name) #Ali\n",
    "person1.name = \"Abdullah\"\n",
    "print(\"after: \", person1.name) #Abdullah\n",
    "\n",
    "# print(\"income: \", person1.__income) #error : AttributeError: 'Person' object has no attribute '__income'\n",
    "print(person1.get_income()) #200000\n",
    "person1.set_income(500000)\n",
    "print(person1.get_income()) #500000"
   ]
  },
  {
   "cell_type": "markdown",
   "id": "f518c24d",
   "metadata": {},
   "source": [
    "# Inheritance => Virasat me milna"
   ]
  },
  {
   "cell_type": "code",
   "execution_count": 88,
   "id": "02ddbc0a",
   "metadata": {},
   "outputs": [
    {
     "name": "stdout",
     "output_type": "stream",
     "text": [
      "Speaking\n"
     ]
    }
   ],
   "source": [
    "class Person: \n",
    "    def __init__(self,name,age):\n",
    "        self.name = name\n",
    "        self.age = age\n",
    "    \n",
    "    def speak(self):\n",
    "        print(\"Speaking\")\n",
    "    \n",
    "# person1 = Person(\"Ali\",18)\n",
    "# person1.speak()\n",
    "class Student(Person):\n",
    "    def __init__(self): #overwriting initialization\n",
    "        pass\n",
    "\n",
    "student1 = Student()\n",
    "student1.speak()"
   ]
  },
  {
   "cell_type": "code",
   "execution_count": 103,
   "id": "14f9da38",
   "metadata": {},
   "outputs": [
    {
     "name": "stdout",
     "output_type": "stream",
     "text": [
      "name:  Ali\n",
      "age:  17\n",
      "student_id:  A123\n",
      "Speaking\n",
      "studying\n",
      "Ali\n",
      "A123\n"
     ]
    }
   ],
   "source": [
    "class Person: \n",
    "    def __init__(self,name,age):\n",
    "        self.name = name\n",
    "        self.age = age\n",
    "    \n",
    "    def speak(self):\n",
    "        print(\"Speaking\")\n",
    "    \n",
    "# person1 = Person(\"Ali\",18)\n",
    "# person1.speak()\n",
    "class Student(Person):\n",
    "    # pass \n",
    "    \n",
    "    def __init__(self,name:str,age:int,student_id:str):\n",
    "        print(\"name: \", name)\n",
    "        print(\"age: \", age)\n",
    "        print(\"student_id: \", student_id)\n",
    "        super().__init__(name,age) #explicitly defining the constructor of parent (Person)\n",
    "        self.student_id : str = student_id\n",
    "        # pass\n",
    "        \n",
    "    def study(self):\n",
    "        print(\"studying\")\n",
    "\n",
    "student1 = Student(\"Ali\",17,\"A123\")\n",
    "student1.speak()\n",
    "student1.study()\n",
    "print(student1.name)\n",
    "print(student1.student_id)"
   ]
  },
  {
   "cell_type": "markdown",
   "id": "da9e5c10",
   "metadata": {},
   "source": [
    "# Polymorphism -> Different Behaviour"
   ]
  },
  {
   "cell_type": "code",
   "execution_count": 1,
   "id": "975a89b3",
   "metadata": {},
   "outputs": [
    {
     "name": "stdout",
     "output_type": "stream",
     "text": [
      "Person is working\n",
      "Teacher is teaching\n",
      "student is studying\n"
     ]
    }
   ],
   "source": [
    "class Person:\n",
    "    def work(self):\n",
    "        print(\"Person is working\")\n",
    "    \n",
    "class Teacher(Person):\n",
    "    def work(self): #Overwriting predefine method is known as polymorphism\n",
    "        print(\"Teacher is teaching\")\n",
    "        \n",
    "class Student(Person):\n",
    "    def work(self):\n",
    "        print(\"student is studying\")\n",
    "        \n",
    "person1 = Person()\n",
    "person1.work()\n",
    "\n",
    "teacher1 = Teacher()\n",
    "teacher1.work()\n",
    "\n",
    "student1 = Student()\n",
    "student1.work()\n",
    "\n"
   ]
  }
 ],
 "metadata": {
  "kernelspec": {
   "display_name": "Python 3",
   "language": "python",
   "name": "python3"
  },
  "language_info": {
   "codemirror_mode": {
    "name": "ipython",
    "version": 3
   },
   "file_extension": ".py",
   "mimetype": "text/x-python",
   "name": "python",
   "nbconvert_exporter": "python",
   "pygments_lexer": "ipython3",
   "version": "3.11.0"
  }
 },
 "nbformat": 4,
 "nbformat_minor": 5
}
