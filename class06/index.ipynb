{
 "cells": [
  {
   "cell_type": "markdown",
   "id": "f2338691",
   "metadata": {},
   "source": [
    "# Object Oriented Programming (OOP)"
   ]
  },
  {
   "cell_type": "code",
   "execution_count": null,
   "id": "50502a07",
   "metadata": {},
   "outputs": [],
   "source": [
    "# we need oop to write descipline and organized code, which also helps in dry coding.\n",
    "\n",
    "# following is linear code: \n",
    "student1_name = \"Ali\"\n",
    "student1_age = 20\n",
    "\n",
    "student2_name = \"Abdullah\"\n",
    "student2_age = 18\n"
   ]
  },
  {
   "cell_type": "code",
   "execution_count": 17,
   "id": "0befd17f",
   "metadata": {},
   "outputs": [
    {
     "name": "stdout",
     "output_type": "stream",
     "text": [
      "hello\n",
      "hello\n",
      "<__main__.Student object at 0x000001E57D281F90>\n",
      "<__main__.Student object at 0x000001E57D281110>\n",
      "Ali\n",
      "20\n"
     ]
    }
   ],
   "source": [
    "# creating class for students\n",
    "class Student: \n",
    "    name: str = \"Ali\" #variables in class -> attribute\n",
    "    age:int = 20\n",
    "    \n",
    "    def __init__(self): #function in class -> method #this method is called constructor -> this method will run as the class will be called\n",
    "        print(\"hello\")\n",
    "        \n",
    "# creating instance \n",
    "student1 = Student()\n",
    "student2 = Student()\n",
    "print(student1) #different location in memory from student2 #<__main__.Student object at 0x000001E57CD3DF10>\n",
    "print(student2) #different location in memory from student1 #<__main__.Student object at 0x000001E57CD32D90>\n",
    "print(student1.name) #Ali\n",
    "print(student2.age) #20"
   ]
  },
  {
   "cell_type": "code",
   "execution_count": 20,
   "id": "d25a679b",
   "metadata": {},
   "outputs": [
    {
     "name": "stdout",
     "output_type": "stream",
     "text": [
      "hello\n",
      "name:  Ali\n",
      "age:  20\n",
      "hello\n",
      "name:  Abdullah\n",
      "age:  20\n"
     ]
    }
   ],
   "source": [
    "# creating class for students\n",
    "class Student: \n",
    "    name: str = \"Ali\" #variables in class -> attribute\n",
    "    age:int = 20\n",
    "    \n",
    "    def __init__(self,name,age): #function in class -> method #this method is called constructor -> this method will run as the class will be called\n",
    "        print(\"hello\")\n",
    "        print(\"name: \",name)\n",
    "        print(\"age: \", age)\n",
    "        \n",
    "# creating instance \n",
    "student1 = Student(\"Ali\",20)\n",
    "student2 = Student(\"Abdullah\",20)"
   ]
  },
  {
   "cell_type": "code",
   "execution_count": 29,
   "id": "9ce29a3a",
   "metadata": {},
   "outputs": [
    {
     "name": "stdout",
     "output_type": "stream",
     "text": [
      "Ali\n",
      "18\n"
     ]
    }
   ],
   "source": [
    "# creating class for students\n",
    "class Student: \n",
    "    # name: str = \"Ali\" #variables in class -> attribute\n",
    "    # age:int = 20\n",
    "    \n",
    "    # __init__ -> dunder / magic function -> function having double underscore at start and at end\n",
    "    def __init__(self,user_name,user_age): #function in class -> method #this method is called constructor -> this method will run as the class will be called\n",
    "        # print(self) #<__main__.Student object at 0x000001E57CD572D0> #self is the object which we are creating as instance of the class like : student1. we are using self as convention but we can also use another variable\n",
    "        self.name = user_name\n",
    "        self.age = user_age\n",
    "        \n",
    "# creating instance \n",
    "student1 = Student(\"Ali\",20)\n",
    "student2 = Student(\"Abdullah\",18)\n",
    "print(student1.name)\n",
    "print(student2.age)"
   ]
  },
  {
   "cell_type": "code",
   "execution_count": 44,
   "id": "8b1d4c20",
   "metadata": {},
   "outputs": [
    {
     "name": "stdout",
     "output_type": "stream",
     "text": [
      "self: <__main__.Person object at 0x000001E57D365B10>\n",
      "1234\n",
      "4321\n"
     ]
    }
   ],
   "source": [
    "class Person: \n",
    "    # name: str = \"Ali\" #variables in class -> attribute\n",
    "    # age:int = 20\n",
    "    \n",
    "    # __init__ -> dunder / magic function -> function having double underscore at start and at end\n",
    "    def __init__(self,user_name,user_age,user_roll_no): #function in class -> method #this method is called constructor -> this method will run as the class will be called\n",
    "        print(\"self:\",self) #<__main__.Student object at 0x000001E57CD572D0> #self is the object which we are creating as instance of the class like : student1. we are using self as convention but we can also use another variable\n",
    "        self.name = user_name\n",
    "        self.age = user_age\n",
    "        self.__roll_no = user_roll_no #here rollno is private due to two underscores at start #access modifiers (public, private, protected) -> by default public\n",
    "        # public -> any one can get and anyone can use | private -> no one can get the attribute | protected ->  \n",
    "    def get_roll_no(self): #getter #to get private properties outside of class but still we can not change the attribute\n",
    "        return self.__roll_no\n",
    "    def set_roll_no(self,roll_no):\n",
    "        self.__roll_no = roll_no\n",
    "# creating instance \n",
    "person1 = Person(\"Ali\",20,1234)\n",
    "rollno=person1.get_roll_no()\n",
    "print(rollno) #1234\n",
    "person1.set_roll_no(4321)\n",
    "rollnoAfter = person1.get_roll_no()\n",
    "print(rollnoAfter)\n",
    "# print(\"rollno before: \",person1.__roll_no)\n",
    "# person1.__roll_no = 4321 #anyone can change the roll no but if we make it private no one can\n",
    "# print(\"rollno after: \",person1.__roll_no)"
   ]
  },
  {
   "cell_type": "markdown",
   "id": "872585bd",
   "metadata": {},
   "source": [
    "# 1- Inheritence\n",
    "# 2- Polymorphism\n",
    "# 3- Abstraction\n",
    "# 4- Encapsulation"
   ]
  },
  {
   "cell_type": "code",
   "execution_count": 63,
   "id": "977c4169",
   "metadata": {},
   "outputs": [
    {
     "name": "stdout",
     "output_type": "stream",
     "text": [
      "transportation:  car\n",
      "Ali gov house car se jata hai\n"
     ]
    }
   ],
   "source": [
    "#Abstraction -> aisi logic jis ka user se koi lena dena nhi hai usko hum hide kr den ge\n",
    "\n",
    "class Person: \n",
    "    # name: str = \"Ali\" #variables in class -> attribute\n",
    "    # age:int = 20\n",
    "    \n",
    "    # __init__ -> dunder / magic function -> function having double underscore at start and at end\n",
    "    def __init__(self,name): #function in class -> method #this method is called constructor -> this method will run as the class will be called\n",
    "        self.name = name\n",
    "        self.transportation = [\"bike\",\"car\",\"bus\"]\n",
    "    def commute (self,destination):\n",
    "        kese_jata_hai  = self.__transportation_kia_hai(destination)\n",
    "        print(\"transportation: \",kese_jata_hai)\n",
    "        print(f\"{self.name} {destination} {kese_jata_hai} se jata hai\")\n",
    "    def __transportation_kia_hai(self,destination): #private method as we don't want background logic #this is known as abstraction\n",
    "        if destination ==\"home\":\n",
    "            return \"bike\"\n",
    "        elif destination == \"gov house\":\n",
    "            return \"car\"\n",
    "        else : \n",
    "            return \"bus\"\n",
    "\n",
    "\n",
    "person1 = Person(\"Ali\")\n",
    "person1.commute(\"gov house\")"
   ]
  }
 ],
 "metadata": {
  "kernelspec": {
   "display_name": "Python 3",
   "language": "python",
   "name": "python3"
  },
  "language_info": {
   "codemirror_mode": {
    "name": "ipython",
    "version": 3
   },
   "file_extension": ".py",
   "mimetype": "text/x-python",
   "name": "python",
   "nbconvert_exporter": "python",
   "pygments_lexer": "ipython3",
   "version": "3.11.0"
  }
 },
 "nbformat": 4,
 "nbformat_minor": 5
}
