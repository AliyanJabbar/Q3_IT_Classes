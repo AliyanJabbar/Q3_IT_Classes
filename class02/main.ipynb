{
 "cells": [
  {
   "cell_type": "markdown",
   "metadata": {},
   "source": [
    "# Today's Topics : Methods (Built-in Functions of class)\n"
   ]
  },
  {
   "cell_type": "markdown",
   "metadata": {},
   "source": [
    "# STRING METHODS: "
   ]
  },
  {
   "cell_type": "code",
   "execution_count": null,
   "metadata": {},
   "outputs": [],
   "source": [
    "# STRING METHODS:\n",
    "name = \"   aneeq kHatri ali   \"\n",
    "\n",
    "# cases\n",
    "print(name)\n",
    "print(name.upper())\n",
    "print(name.lower())\n",
    "print(name.title()) #first letter of every word will be capital\n",
    "print(name.capitalize()) #first letter of first word will be capital"
   ]
  },
  {
   "cell_type": "code",
   "execution_count": null,
   "metadata": {},
   "outputs": [],
   "source": [
    "name = \"   aneeq kHatri ali   \"\n",
    "\n",
    "\n",
    "# strip\n",
    "# removing spaces from starting and ending (known as trim in js/ts)\n",
    "print(name)\n",
    "print(name.strip())\n",
    "print(name.lstrip())\n",
    "print(name.rstrip())\n"
   ]
  },
  {
   "cell_type": "code",
   "execution_count": null,
   "metadata": {},
   "outputs": [],
   "source": [
    "name = \"   aneeq kHatri ali   \"\n",
    "\n",
    "# replace\n",
    "value = \"ramzan mubarak\"\n",
    "print(value.replace(\"ramzan\",\"eid\"))\n",
    "var = \"meet\"\n",
    "print(var.replace(\"e\",\"a\",1))"
   ]
  },
  {
   "cell_type": "code",
   "execution_count": null,
   "metadata": {},
   "outputs": [],
   "source": [
    "\n",
    "# find\n",
    "value = \"ramzan is coming\"\n",
    "print(\n",
    "    value.find(\"y\")\n",
    ")  # it will follow first occurence # if the value is not present in the string then it will give -1\n",
    "\n"
   ]
  },
  {
   "cell_type": "code",
   "execution_count": null,
   "metadata": {},
   "outputs": [],
   "source": [
    "\n",
    "# index\n",
    "value = \"ramzan is coming\"\n",
    "print(\n",
    "    value.index(\"i\")\n",
    ")  # it will follow first occurence # if the value is not present in the string then it will give error\n"
   ]
  },
  {
   "cell_type": "code",
   "execution_count": null,
   "metadata": {},
   "outputs": [],
   "source": [
    "\n",
    "# startswith\n",
    "value = \" ramzan mubarak\"\n",
    "1.\n",
    "print(value.startswith(\"ramzan\"))  # will give False because the string contains a space\n",
    "\n",
    "print(\n",
    "    value.strip().startswith(\"ramzan\")\n",
    ")  # will give True because the string does'not contain a space\n"
   ]
  },
  {
   "cell_type": "code",
   "execution_count": null,
   "metadata": {},
   "outputs": [],
   "source": [
    "\n",
    "value = \" ramzan mubarak\"\n",
    "if value.strip().startswith(\"ramzan\"):\n",
    "    print(\"value is ok\")\n",
    "else:\n",
    "    print(\"value is not ok\")\n",
    "\n"
   ]
  },
  {
   "cell_type": "code",
   "execution_count": null,
   "metadata": {},
   "outputs": [],
   "source": [
    "\n",
    "# split\n",
    "value = \"monday,tuesday,wednesday,thursday,friday,saturday,sunday\"\n",
    "list_val = value.split(\",\")\n",
    "print(\"----\".join(list_val))\n",
    "\n"
   ]
  },
  {
   "cell_type": "markdown",
   "metadata": {},
   "source": [
    "# LIST METHODS"
   ]
  },
  {
   "cell_type": "code",
   "execution_count": null,
   "metadata": {},
   "outputs": [],
   "source": [
    "value = \"monday,tuesday,wednesday,thursday,friday,saturday,sunday\"\n",
    "list_val = value.split(\",\")\n",
    "print(\"Normal List: \", list_val)"
   ]
  },
  {
   "cell_type": "code",
   "execution_count": null,
   "metadata": {},
   "outputs": [],
   "source": [
    "value = \"monday,tuesday,wednesday,thursday,friday,saturday,sunday\"\n",
    "list_val = value.split(\",\")\n",
    "# append (add value at the end)\n",
    "list_val.append(\"Dec\")\n",
    "print(\"append: \", list_val)"
   ]
  },
  {
   "cell_type": "code",
   "execution_count": null,
   "metadata": {},
   "outputs": [],
   "source": [
    "value = \"monday,tuesday,wednesday,thursday,friday,saturday,sunday\"\n",
    "list_val = value.split(\",\")\n",
    "# insert (add value at particular index)\n",
    "list_val.insert(5, \"Jan\")\n",
    "print(\"insert: \", list_val)"
   ]
  },
  {
   "cell_type": "code",
   "execution_count": null,
   "metadata": {},
   "outputs": [],
   "source": [
    "value = \"monday,tuesday,wednesday,thursday,friday,saturday,sunday\"\n",
    "list_val = value.split(\",\")\n",
    "print(\"normal list : \",list_val)\n",
    "# pop\n",
    "list_val.pop()\n",
    "print(\"pop:\", list_val)"
   ]
  },
  {
   "cell_type": "code",
   "execution_count": null,
   "metadata": {},
   "outputs": [],
   "source": [
    "value = \"monday,tuesday,wednesday,thursday,friday,saturday,sunday\"\n",
    "list_val = value.split(\",\")\n",
    "print(\"printing pop method: \", list_val.pop())  # returning which value is removed"
   ]
  },
  {
   "cell_type": "code",
   "execution_count": 60,
   "metadata": {},
   "outputs": [
    {
     "name": "stdout",
     "output_type": "stream",
     "text": [
      "['jan', 'feb', 'mar', 'apr', 'may', 'jun', 'july', 'aug', 'sep', 'oct', 'nov', 'dec']\n"
     ]
    }
   ],
   "source": [
    "# extend, #will change the original list\n",
    "list1 = [\"jan\", \"feb\", \"mar\", \"apr\", \"may\"]\n",
    "list2 = [\"jun\", \"july\", \"aug\", \"sep\", \"oct\", \"nov\", \"dec\"]\n",
    "# list1.extend(list2)\n",
    "# print(list1)\n",
    "# or we can do it using '+' # will use more space because we have to make another list named list3 here \n",
    "list3 = list1 + list2  # using more space\n",
    "print(list3)\n",
    "\n"
   ]
  },
  {
   "cell_type": "code",
   "execution_count": 1,
   "metadata": {},
   "outputs": [
    {
     "name": "stdout",
     "output_type": "stream",
     "text": [
      "[0, 1, 2, 3, 4, 5, 6, 7, 8, 9]\n",
      "[9, 8, 7, 6, 5, 4, 3, 2, 1, 0]\n"
     ]
    }
   ],
   "source": [
    "# sort\n",
    "list = [1, 2, 5, 3, 4, 0, 6, 7, 8, 9]\n",
    "list.sort() #ascening\n",
    "print(list)\n",
    "list.sort(reverse=True) #descending\n",
    "print(list)"
   ]
  },
  {
   "cell_type": "code",
   "execution_count": 2,
   "metadata": {},
   "outputs": [
    {
     "name": "stdout",
     "output_type": "stream",
     "text": [
      "[9, 8, 7, 6, 5, 4, 3, 2, 1, 0]\n",
      "[0, 1, 2, 3, 4, 5, 6, 7, 8, 9]\n"
     ]
    }
   ],
   "source": [
    "# reverse\n",
    "\n",
    "list = [1, 2, 5, 3, 4, 0, 6, 7, 8, 9]\n",
    "# 1. descending\n",
    "list.sort()\n",
    "list.reverse()\n",
    "print(list)\n",
    "# 2. ascending\n",
    "list.sort(reverse=True)\n",
    "list.reverse()\n",
    "print(list)"
   ]
  },
  {
   "cell_type": "code",
   "execution_count": null,
   "metadata": {},
   "outputs": [
    {
     "name": "stdout",
     "output_type": "stream",
     "text": [
      "[1, 2, 5, 3, 4, 6, 7, 8, 9]\n"
     ]
    }
   ],
   "source": [
    "# remove\n",
    "\n",
    "list = [1, 2, 5, 3, 4, 0, 6, 7, 8, 9]\n",
    "list.remove(0) #by index ❌ by value ✅\n",
    "print(list)"
   ]
  },
  {
   "cell_type": "code",
   "execution_count": 10,
   "metadata": {},
   "outputs": [
    {
     "name": "stdout",
     "output_type": "stream",
     "text": [
      "list:  [1, 2, 5, 3, 4, 0, 6, 7, 8, 9]\n",
      "list2:  [1, 2, 5, 3, 4, 0, 6, 7, 8, 9]\n",
      "list3:  [1, 2, 5, 3, 4, 0, 6, 7, 8, 9]\n",
      "list4:  [1, 5, 4, 6, 8]\n"
     ]
    }
   ],
   "source": [
    "\n",
    "# copy\n",
    "list = [1, 2, 5, 3, 4, 0, 6, 7, 8, 9]\n",
    "list2 = list.copy()\n",
    "print(\"list: \", list)\n",
    "print(\"list2: \", list2)\n",
    "# 1. list[start: end] --> (start(inclusive), end(exclusive))\n",
    "list3 = list[0:10]\n",
    "print(\"list3: \", list3)\n",
    "# 2.\n",
    "list4 = list[0:10:2]  # list[start,end,gap-1]\n",
    "print('list4: ',list4)  # [1, 5, 4, 6, 8]\n",
    "\n"
   ]
  },
  {
   "cell_type": "markdown",
   "metadata": {},
   "source": [
    "# DICTIONARY METHODS"
   ]
  },
  {
   "cell_type": "code",
   "execution_count": null,
   "metadata": {},
   "outputs": [
    {
     "name": "stdout",
     "output_type": "stream",
     "text": [
      "before:  {'name': 'ali', 'age': 16}\n",
      "after:  {'name': 'ali', 'age': 17, 'rollno': 12345}\n"
     ]
    }
   ],
   "source": [
    "# update\n",
    "student = {\"name\": \"ali\", \"age\": 16}\n",
    "print(\"before: \", student)\n",
    "\n",
    "student.update({\"age\": 17}) #if present then change it\n",
    "student.update({\"rollno\": 12345}) #if not present then add it\n",
    "print(\"after: \", student)"
   ]
  },
  {
   "cell_type": "code",
   "execution_count": null,
   "metadata": {},
   "outputs": [
    {
     "name": "stdout",
     "output_type": "stream",
     "text": [
      "before:  {'name': 'ali', 'age': 16}\n",
      "{'name': 'ali'}\n"
     ]
    }
   ],
   "source": [
    "# pop\n",
    "student = {\"name\": \"ali\", \"age\": 16}\n",
    "print(\"before: \", student)\n",
    "\n",
    "student.pop(\"age\")\n",
    "print(\"after: \", student)"
   ]
  }
 ],
 "metadata": {
  "kernelspec": {
   "display_name": "Python 3",
   "language": "python",
   "name": "python3"
  },
  "language_info": {
   "codemirror_mode": {
    "name": "ipython",
    "version": 3
   },
   "file_extension": ".py",
   "mimetype": "text/x-python",
   "name": "python",
   "nbconvert_exporter": "python",
   "pygments_lexer": "ipython3",
   "version": "3.11.0"
  }
 },
 "nbformat": 4,
 "nbformat_minor": 2
}
